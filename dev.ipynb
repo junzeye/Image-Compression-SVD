{
 "cells": [
  {
   "cell_type": "code",
   "execution_count": 2,
   "metadata": {},
   "outputs": [],
   "source": [
    "import numpy as np\n",
    "from numpy.linalg import svd\n",
    "from skimage import io, img_as_float, img_as_uint\n",
    "import matplotlib.pyplot as plt\n",
    "import argparse\n",
    "\n",
    "compress_ratio = 0.2\n",
    "img = io.imread('conway.jpg')\n",
    "im2arr = img_as_float(img) # im2arr dimensions: height x width x channel\n",
    "L = [None, None, None]\n",
    "for i in range(3):\n",
    "    L[i] = im2arr[:,:,i]\n",
    "\n",
    "m, n = L[0].shape[0], L[0].shape[1]"
   ]
  },
  {
   "cell_type": "code",
   "execution_count": 13,
   "metadata": {},
   "outputs": [],
   "source": [
    "import os\n",
    "os.makedirs('abc')"
   ]
  },
  {
   "cell_type": "code",
   "execution_count": 25,
   "metadata": {},
   "outputs": [
    {
     "data": {
      "text/plain": [
       "array([[5, 6],\n",
       "       [7, 8]])"
      ]
     },
     "execution_count": 25,
     "metadata": {},
     "output_type": "execute_result"
    }
   ],
   "source": [
    "a = np.array([[1,2],[3,4]])\n",
    "b = np.array([[5,6],[7,8]])\n",
    "c = np.array([[5,6],[7,8]])\n",
    "np.dstack((a,b,c))[:,:,1]"
   ]
  },
  {
   "cell_type": "code",
   "execution_count": 224,
   "metadata": {},
   "outputs": [],
   "source": [
    "U, Sigma, V_T, V, Ak = [[None, None, None] for i in range(5)]\n",
    "\n",
    "for i in range(3):\n",
    "    U[i], Sigma[i], V_T[i] = svd(L[i])\n",
    "    V[i] = V_T[i].T"
   ]
  },
  {
   "cell_type": "code",
   "execution_count": 225,
   "metadata": {},
   "outputs": [],
   "source": [
    "k = max(1, int(compress_ratio * m * n / (m + n + 1)))\n",
    "\n",
    "for i in range(3):\n",
    "    Ak[i] = U[i][:,:k] @ np.diag(Sigma[i][:k]) @ V[i][:, :k].T"
   ]
  },
  {
   "cell_type": "code",
   "execution_count": 226,
   "metadata": {},
   "outputs": [],
   "source": [
    "RGB_matrix = np.zeros((m, n, 3))\n",
    "for i in range(3):\n",
    "    RGB_matrix[:,:,i] = Ak[i]"
   ]
  },
  {
   "cell_type": "code",
   "execution_count": 235,
   "metadata": {},
   "outputs": [
    {
     "data": {
      "text/plain": [
       "(1120, 960, 3)"
      ]
     },
     "execution_count": 235,
     "metadata": {},
     "output_type": "execute_result"
    }
   ],
   "source": [
    "RGB_matrix.shape"
   ]
  },
  {
   "cell_type": "code",
   "execution_count": 247,
   "metadata": {},
   "outputs": [],
   "source": [
    "plt.imsave(fname = 'out.png', arr = np.clip(RGB_matrix, 0, 1), format = 'png')"
   ]
  },
  {
   "cell_type": "code",
   "execution_count": 246,
   "metadata": {},
   "outputs": [
    {
     "data": {
      "text/plain": [
       "False"
      ]
     },
     "execution_count": 246,
     "metadata": {},
     "output_type": "execute_result"
    }
   ],
   "source": []
  }
 ],
 "metadata": {
  "kernelspec": {
   "display_name": "Python 3.9.7 ('base')",
   "language": "python",
   "name": "python3"
  },
  "language_info": {
   "codemirror_mode": {
    "name": "ipython",
    "version": 3
   },
   "file_extension": ".py",
   "mimetype": "text/x-python",
   "name": "python",
   "nbconvert_exporter": "python",
   "pygments_lexer": "ipython3",
   "version": "3.9.7"
  },
  "orig_nbformat": 4,
  "vscode": {
   "interpreter": {
    "hash": "6d7cdcd257e42ceb5677e055a3fe4a4ec0871a55b129bc50f3a6e3301c09a0ea"
   }
  }
 },
 "nbformat": 4,
 "nbformat_minor": 2
}
